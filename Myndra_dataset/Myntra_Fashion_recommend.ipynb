{
 "cells": [
  {
   "cell_type": "code",
   "execution_count": 108,
   "id": "7b15c11b",
   "metadata": {},
   "outputs": [],
   "source": [
    "import numpy as np\n",
    "import pandas as pd\n",
    "import os\n",
    "from IPython.core.interactiveshell import InteractiveShell\n",
    "InteractiveShell.ast_node_interactivity = \"all\""
   ]
  },
  {
   "cell_type": "code",
   "execution_count": 2,
   "id": "88a688f9",
   "metadata": {},
   "outputs": [
    {
     "data": {
      "text/plain": [
       "'/Users/smithss'"
      ]
     },
     "execution_count": 2,
     "metadata": {},
     "output_type": "execute_result"
    }
   ],
   "source": [
    "os.getcwd()"
   ]
  },
  {
   "cell_type": "code",
   "execution_count": 5,
   "id": "3b87a27f",
   "metadata": {},
   "outputs": [],
   "source": [
    "df=pd.read_csv(\"/Users/smithss/Downloads/Fashion Dataset.csv\")"
   ]
  },
  {
   "cell_type": "code",
   "execution_count": 6,
   "id": "f6466569",
   "metadata": {
    "collapsed": true
   },
   "outputs": [
    {
     "data": {
      "text/html": [
       "<div>\n",
       "<style scoped>\n",
       "    .dataframe tbody tr th:only-of-type {\n",
       "        vertical-align: middle;\n",
       "    }\n",
       "\n",
       "    .dataframe tbody tr th {\n",
       "        vertical-align: top;\n",
       "    }\n",
       "\n",
       "    .dataframe thead th {\n",
       "        text-align: right;\n",
       "    }\n",
       "</style>\n",
       "<table border=\"1\" class=\"dataframe\">\n",
       "  <thead>\n",
       "    <tr style=\"text-align: right;\">\n",
       "      <th></th>\n",
       "      <th>Unnamed: 0</th>\n",
       "      <th>p_id</th>\n",
       "      <th>name</th>\n",
       "      <th>price</th>\n",
       "      <th>colour</th>\n",
       "      <th>brand</th>\n",
       "      <th>img</th>\n",
       "      <th>ratingCount</th>\n",
       "      <th>avg_rating</th>\n",
       "      <th>description</th>\n",
       "      <th>p_attributes</th>\n",
       "    </tr>\n",
       "  </thead>\n",
       "  <tbody>\n",
       "    <tr>\n",
       "      <th>0</th>\n",
       "      <td>0</td>\n",
       "      <td>17048614.0</td>\n",
       "      <td>Khushal K Women Black Ethnic Motifs Printed Ku...</td>\n",
       "      <td>5099.0</td>\n",
       "      <td>Black</td>\n",
       "      <td>Khushal K</td>\n",
       "      <td>http://assets.myntassets.com/assets/images/170...</td>\n",
       "      <td>4522.0</td>\n",
       "      <td>4.418399</td>\n",
       "      <td>Black printed Kurta with Palazzos with dupatta...</td>\n",
       "      <td>{'Add-Ons': 'NA', 'Body Shape ID': '443,333,32...</td>\n",
       "    </tr>\n",
       "    <tr>\n",
       "      <th>1</th>\n",
       "      <td>1</td>\n",
       "      <td>16524740.0</td>\n",
       "      <td>InWeave Women Orange Solid Kurta with Palazzos...</td>\n",
       "      <td>5899.0</td>\n",
       "      <td>Orange</td>\n",
       "      <td>InWeave</td>\n",
       "      <td>http://assets.myntassets.com/assets/images/165...</td>\n",
       "      <td>1081.0</td>\n",
       "      <td>4.119334</td>\n",
       "      <td>Orange solid Kurta with Palazzos with dupatta&lt;...</td>\n",
       "      <td>{'Add-Ons': 'NA', 'Body Shape ID': '443,333,32...</td>\n",
       "    </tr>\n",
       "    <tr>\n",
       "      <th>2</th>\n",
       "      <td>2</td>\n",
       "      <td>16331376.0</td>\n",
       "      <td>Anubhutee Women Navy Blue Ethnic Motifs Embroi...</td>\n",
       "      <td>4899.0</td>\n",
       "      <td>Navy Blue</td>\n",
       "      <td>Anubhutee</td>\n",
       "      <td>http://assets.myntassets.com/assets/images/163...</td>\n",
       "      <td>1752.0</td>\n",
       "      <td>4.161530</td>\n",
       "      <td>Navy blue embroidered Kurta with Trousers with...</td>\n",
       "      <td>{'Add-Ons': 'NA', 'Body Shape ID': '333,424', ...</td>\n",
       "    </tr>\n",
       "    <tr>\n",
       "      <th>3</th>\n",
       "      <td>3</td>\n",
       "      <td>14709966.0</td>\n",
       "      <td>Nayo Women Red Floral Printed Kurta With Trous...</td>\n",
       "      <td>3699.0</td>\n",
       "      <td>Red</td>\n",
       "      <td>Nayo</td>\n",
       "      <td>http://assets.myntassets.com/assets/images/147...</td>\n",
       "      <td>4113.0</td>\n",
       "      <td>4.088986</td>\n",
       "      <td>Red printed kurta with trouser and dupatta&lt;br&gt;...</td>\n",
       "      <td>{'Add-Ons': 'NA', 'Body Shape ID': '333,424', ...</td>\n",
       "    </tr>\n",
       "    <tr>\n",
       "      <th>4</th>\n",
       "      <td>4</td>\n",
       "      <td>11056154.0</td>\n",
       "      <td>AHIKA Women Black &amp; Green Printed Straight Kurta</td>\n",
       "      <td>1350.0</td>\n",
       "      <td>Black</td>\n",
       "      <td>AHIKA</td>\n",
       "      <td>http://assets.myntassets.com/assets/images/110...</td>\n",
       "      <td>21274.0</td>\n",
       "      <td>3.978377</td>\n",
       "      <td>Black and green printed straight kurta, has a ...</td>\n",
       "      <td>{'Body Shape ID': '424', 'Body or Garment Size...</td>\n",
       "    </tr>\n",
       "  </tbody>\n",
       "</table>\n",
       "</div>"
      ],
      "text/plain": [
       "   Unnamed: 0        p_id                                               name  \\\n",
       "0           0  17048614.0  Khushal K Women Black Ethnic Motifs Printed Ku...   \n",
       "1           1  16524740.0  InWeave Women Orange Solid Kurta with Palazzos...   \n",
       "2           2  16331376.0  Anubhutee Women Navy Blue Ethnic Motifs Embroi...   \n",
       "3           3  14709966.0  Nayo Women Red Floral Printed Kurta With Trous...   \n",
       "4           4  11056154.0   AHIKA Women Black & Green Printed Straight Kurta   \n",
       "\n",
       "    price     colour      brand  \\\n",
       "0  5099.0      Black  Khushal K   \n",
       "1  5899.0     Orange    InWeave   \n",
       "2  4899.0  Navy Blue  Anubhutee   \n",
       "3  3699.0        Red       Nayo   \n",
       "4  1350.0      Black      AHIKA   \n",
       "\n",
       "                                                 img  ratingCount  avg_rating  \\\n",
       "0  http://assets.myntassets.com/assets/images/170...       4522.0    4.418399   \n",
       "1  http://assets.myntassets.com/assets/images/165...       1081.0    4.119334   \n",
       "2  http://assets.myntassets.com/assets/images/163...       1752.0    4.161530   \n",
       "3  http://assets.myntassets.com/assets/images/147...       4113.0    4.088986   \n",
       "4  http://assets.myntassets.com/assets/images/110...      21274.0    3.978377   \n",
       "\n",
       "                                         description  \\\n",
       "0  Black printed Kurta with Palazzos with dupatta...   \n",
       "1  Orange solid Kurta with Palazzos with dupatta<...   \n",
       "2  Navy blue embroidered Kurta with Trousers with...   \n",
       "3  Red printed kurta with trouser and dupatta<br>...   \n",
       "4  Black and green printed straight kurta, has a ...   \n",
       "\n",
       "                                        p_attributes  \n",
       "0  {'Add-Ons': 'NA', 'Body Shape ID': '443,333,32...  \n",
       "1  {'Add-Ons': 'NA', 'Body Shape ID': '443,333,32...  \n",
       "2  {'Add-Ons': 'NA', 'Body Shape ID': '333,424', ...  \n",
       "3  {'Add-Ons': 'NA', 'Body Shape ID': '333,424', ...  \n",
       "4  {'Body Shape ID': '424', 'Body or Garment Size...  "
      ]
     },
     "execution_count": 6,
     "metadata": {},
     "output_type": "execute_result"
    }
   ],
   "source": [
    "df.head()"
   ]
  },
  {
   "cell_type": "code",
   "execution_count": 9,
   "id": "aab67655",
   "metadata": {},
   "outputs": [
    {
     "data": {
      "text/plain": [
       "(14330, 11)"
      ]
     },
     "execution_count": 9,
     "metadata": {},
     "output_type": "execute_result"
    }
   ],
   "source": [
    "df.shape"
   ]
  },
  {
   "cell_type": "code",
   "execution_count": 7,
   "id": "42b59b57",
   "metadata": {
    "collapsed": true
   },
   "outputs": [
    {
     "data": {
      "text/plain": [
       "Unnamed: 0         0\n",
       "p_id              18\n",
       "name              18\n",
       "price             18\n",
       "colour            21\n",
       "brand             18\n",
       "img               18\n",
       "ratingCount     7749\n",
       "avg_rating      7749\n",
       "description       18\n",
       "p_attributes      18\n",
       "dtype: int64"
      ]
     },
     "execution_count": 7,
     "metadata": {},
     "output_type": "execute_result"
    }
   ],
   "source": [
    "df.isnull().sum()"
   ]
  },
  {
   "cell_type": "markdown",
   "id": "ba699363",
   "metadata": {},
   "source": [
    "# content based recommend"
   ]
  },
  {
   "cell_type": "code",
   "execution_count": 198,
   "id": "d40b2d78",
   "metadata": {},
   "outputs": [],
   "source": [
    "df_c=df.dropna()"
   ]
  },
  {
   "cell_type": "code",
   "execution_count": 114,
   "id": "979ac2f2",
   "metadata": {
    "collapsed": true
   },
   "outputs": [
    {
     "data": {
      "text/plain": [
       "Unnamed: 0      0\n",
       "p_id            0\n",
       "name            0\n",
       "price           0\n",
       "colour          0\n",
       "brand           0\n",
       "img             0\n",
       "ratingCount     0\n",
       "avg_rating      0\n",
       "description     0\n",
       "p_attributes    0\n",
       "dtype: int64"
      ]
     },
     "execution_count": 114,
     "metadata": {},
     "output_type": "execute_result"
    }
   ],
   "source": [
    "df_c.isnull().sum()"
   ]
  },
  {
   "cell_type": "code",
   "execution_count": 199,
   "id": "9e741a15",
   "metadata": {},
   "outputs": [],
   "source": [
    "df_c=df_c[[\"name\",\"colour\",\"brand\",\"description\",\"p_attributes\",\"img\"]]"
   ]
  },
  {
   "cell_type": "code",
   "execution_count": 29,
   "id": "453d2ec4",
   "metadata": {
    "collapsed": true
   },
   "outputs": [
    {
     "name": "stdout",
     "output_type": "stream",
     "text": [
      "{'Add-Ons': 'NA', 'Body Shape ID': '443,333,324,424', 'Body or Garment Size': 'Garment Measurements in', 'Bottom Closure': 'Slip-On', 'Bottom Fabric': 'Viscose Rayon', 'Bottom Pattern': 'Printed', 'Bottom Type': 'Palazzos', 'Character': 'NA', 'Dupatta': 'With Dupatta', 'Dupatta Border': 'Solid', 'Dupatta Fabric': 'Viscose Rayon', 'Dupatta Pattern': 'Printed', 'Main Trend': 'Indie Prints', 'Neck': 'Mandarin Collar', 'Number of Pockets': 'NA', 'Occasion': 'Festive', 'Ornamentation': 'NA', 'Pattern Coverage': 'Placement', 'Print or Pattern Type': 'Ethnic Motifs', 'Sleeve Length': 'Three-Quarter Sleeves', 'Sleeve Styling': 'Regular Sleeves', 'Slit Detail': 'NA', 'Stitch': 'Ready to Wear', 'Sustainable': 'Regular', 'Technique': 'Screen', 'Top Design Styling': 'Regular', 'Top Fabric': 'Viscose Rayon', 'Top Hemline': 'Flared', 'Top Length': 'Calf Length', 'Top Pattern': 'Printed', 'Top Shape': 'Anarkali', 'Top Type': 'Kurta', 'Waistband': 'Elasticated', 'Wash Care': 'Machine Wash', 'Weave Pattern': 'Regular', 'Weave Type': 'Machine Weave'}\n",
      "  \n",
      "{'Add-Ons': 'NA', 'Body Shape ID': '443,333,324,424', 'Body or Garment Size': 'Garment Measurements in', 'Bottom Closure': 'Zip', 'Bottom Fabric': 'Viscose Rayon', 'Bottom Pattern': 'Solid', 'Bottom Type': 'Palazzos', 'Character': 'NA', 'Dupatta': 'With Dupatta', 'Dupatta Border': 'Printed', 'Dupatta Fabric': 'Organza', 'Dupatta Pattern': 'Printed', 'Main Trend': 'NA', 'Neck': 'Square Neck', 'Number of Pockets': 'NA', 'Occasion': 'Fusion', 'Ornamentation': 'NA', 'Pattern Coverage': 'None', 'Print or Pattern Type': 'Solid', 'Sleeve Length': 'Sleeveless', 'Sleeve Styling': 'Shoulder Straps', 'Slit Detail': 'NA', 'Stitch': 'Ready to Wear', 'Sustainable': 'Regular', 'Technique': 'NA', 'Top Design Styling': 'Regular', 'Top Fabric': 'Viscose Rayon', 'Top Hemline': 'Flared', 'Top Length': 'Calf Length', 'Top Pattern': 'Solid', 'Top Shape': 'A-Line', 'Top Type': 'Kurta', 'Waistband': 'Elasticated', 'Wash Care': 'Hand Wash', 'Weave Pattern': 'Regular', 'Weave Type': 'Machine Weave'}\n",
      "  \n",
      "{'Add-Ons': 'NA', 'Body Shape ID': '333,424', 'Body or Garment Size': 'Garment Measurements in', 'Bottom Closure': 'Slip-On', 'Bottom Fabric': 'Viscose Rayon', 'Bottom Pattern': 'Printed', 'Bottom Type': 'Trousers', 'Character': 'NA', 'Dupatta': 'With Dupatta', 'Dupatta Border': 'Tassels', 'Dupatta Fabric': 'Voile', 'Dupatta Pattern': 'Embroidered', 'Main Trend': 'NA', 'Neck': 'Round Neck', 'Number of Pockets': 'NA', 'Occasion': 'Daily', 'Ornamentation': 'Thread Work', 'Pattern Coverage': 'Large', 'Print or Pattern Type': 'Ethnic Motifs', 'Sleeve Length': 'Three-Quarter Sleeves', 'Sleeve Styling': 'No Sleeves', 'Slit Detail': 'NA', 'Stitch': 'Ready to Wear', 'Style Tip': '', 'Sustainable': 'Regular', 'Technique': 'Foil', 'Top Design Styling': 'Regular', 'Top Fabric': 'Viscose Rayon', 'Top Hemline': 'Flared', 'Top Length': 'Above Knee', 'Top Pattern': 'Embroidered', 'Top Shape': 'A-Line', 'Top Type': 'Kurta', 'Waistband': 'Elasticated', 'Wash Care': 'Hand Wash', 'Weave Pattern': 'Regular', 'Weave Type': 'Machine Weave'}\n",
      "  \n"
     ]
    }
   ],
   "source": [
    "for i in range(3):\n",
    "    \n",
    "    print(df_c[\"p_attributes\"][i])\n",
    "    print(\"  \")"
   ]
  },
  {
   "cell_type": "code",
   "execution_count": 30,
   "id": "0aff330c",
   "metadata": {
    "collapsed": true
   },
   "outputs": [
    {
     "data": {
      "text/plain": [
       "{'Add-Ons': 'NA',\n",
       " 'Body Shape ID': '443,333,324,424',\n",
       " 'Body or Garment Size': 'Garment Measurements in',\n",
       " 'Bottom Closure': 'Slip-On',\n",
       " 'Bottom Fabric': 'Viscose Rayon',\n",
       " 'Bottom Pattern': 'Printed',\n",
       " 'Bottom Type': 'Palazzos',\n",
       " 'Character': 'NA',\n",
       " 'Dupatta': 'With Dupatta',\n",
       " 'Dupatta Border': 'Solid',\n",
       " 'Dupatta Fabric': 'Viscose Rayon',\n",
       " 'Dupatta Pattern': 'Printed',\n",
       " 'Main Trend': 'Indie Prints',\n",
       " 'Neck': 'Mandarin Collar',\n",
       " 'Number of Pockets': 'NA',\n",
       " 'Occasion': 'Festive',\n",
       " 'Ornamentation': 'NA',\n",
       " 'Pattern Coverage': 'Placement',\n",
       " 'Print or Pattern Type': 'Ethnic Motifs',\n",
       " 'Sleeve Length': 'Three-Quarter Sleeves',\n",
       " 'Sleeve Styling': 'Regular Sleeves',\n",
       " 'Slit Detail': 'NA',\n",
       " 'Stitch': 'Ready to Wear',\n",
       " 'Sustainable': 'Regular',\n",
       " 'Technique': 'Screen',\n",
       " 'Top Design Styling': 'Regular',\n",
       " 'Top Fabric': 'Viscose Rayon',\n",
       " 'Top Hemline': 'Flared',\n",
       " 'Top Length': 'Calf Length',\n",
       " 'Top Pattern': 'Printed',\n",
       " 'Top Shape': 'Anarkali',\n",
       " 'Top Type': 'Kurta',\n",
       " 'Waistband': 'Elasticated',\n",
       " 'Wash Care': 'Machine Wash',\n",
       " 'Weave Pattern': 'Regular',\n",
       " 'Weave Type': 'Machine Weave'}"
      ]
     },
     "execution_count": 30,
     "metadata": {},
     "output_type": "execute_result"
    }
   ],
   "source": [
    "import ast\n",
    "v=ast.literal_eval(df[\"p_attributes\"][0])\n",
    "v"
   ]
  },
  {
   "cell_type": "code",
   "execution_count": 71,
   "id": "f204c49e",
   "metadata": {},
   "outputs": [],
   "source": [
    "def convert(ob):\n",
    "    l=[]\n",
    "    for i,j in ob.items():\n",
    "        if i==[\"Number of Pockets\"]:\n",
    "            l.append(v[i])\n",
    "    return l"
   ]
  },
  {
   "cell_type": "code",
   "execution_count": 101,
   "id": "6cbf8d69",
   "metadata": {},
   "outputs": [],
   "source": [
    "def convertd(df):\n",
    "    v=ast.literal_eval(df)\n",
    "\n",
    "\n",
    "    l=[]\n",
    "    for i in v.keys():\n",
    "        if i in [\"Number of Pockets\",\"Stitch\",\"Wash Care\"]:\n",
    "            l.append(v[i])\n",
    "\n",
    "    return l\n",
    "        "
   ]
  },
  {
   "cell_type": "code",
   "execution_count": 102,
   "id": "549629da",
   "metadata": {},
   "outputs": [
    {
     "data": {
      "text/plain": [
       "['NA', 'Ready to Wear', 'Machine Wash']"
      ]
     },
     "execution_count": 102,
     "metadata": {},
     "output_type": "execute_result"
    }
   ],
   "source": [
    "convertd(df[\"p_attributes\"][0])"
   ]
  },
  {
   "cell_type": "code",
   "execution_count": 200,
   "id": "27adacc8",
   "metadata": {},
   "outputs": [],
   "source": [
    "df_c[\"p_attributes\"]=df_c[\"p_attributes\"].apply(convertd)"
   ]
  },
  {
   "cell_type": "code",
   "execution_count": 118,
   "id": "81dd76d6",
   "metadata": {
    "collapsed": true
   },
   "outputs": [
    {
     "data": {
      "text/html": [
       "<div>\n",
       "<style scoped>\n",
       "    .dataframe tbody tr th:only-of-type {\n",
       "        vertical-align: middle;\n",
       "    }\n",
       "\n",
       "    .dataframe tbody tr th {\n",
       "        vertical-align: top;\n",
       "    }\n",
       "\n",
       "    .dataframe thead th {\n",
       "        text-align: right;\n",
       "    }\n",
       "</style>\n",
       "<table border=\"1\" class=\"dataframe\">\n",
       "  <thead>\n",
       "    <tr style=\"text-align: right;\">\n",
       "      <th></th>\n",
       "      <th>p_id</th>\n",
       "      <th>price</th>\n",
       "      <th>colour</th>\n",
       "      <th>brand</th>\n",
       "      <th>description</th>\n",
       "      <th>p_attributes</th>\n",
       "    </tr>\n",
       "  </thead>\n",
       "  <tbody>\n",
       "    <tr>\n",
       "      <th>0</th>\n",
       "      <td>17048614.0</td>\n",
       "      <td>5099.0</td>\n",
       "      <td>Black</td>\n",
       "      <td>Khushal K</td>\n",
       "      <td>Black printed Kurta with Palazzos with dupatta...</td>\n",
       "      <td>[NA, Ready to Wear, Machine Wash]</td>\n",
       "    </tr>\n",
       "    <tr>\n",
       "      <th>1</th>\n",
       "      <td>16524740.0</td>\n",
       "      <td>5899.0</td>\n",
       "      <td>Orange</td>\n",
       "      <td>InWeave</td>\n",
       "      <td>Orange solid Kurta with Palazzos with dupatta&lt;...</td>\n",
       "      <td>[NA, Ready to Wear, Hand Wash]</td>\n",
       "    </tr>\n",
       "    <tr>\n",
       "      <th>2</th>\n",
       "      <td>16331376.0</td>\n",
       "      <td>4899.0</td>\n",
       "      <td>Navy Blue</td>\n",
       "      <td>Anubhutee</td>\n",
       "      <td>Navy blue embroidered Kurta with Trousers with...</td>\n",
       "      <td>[NA, Ready to Wear, Hand Wash]</td>\n",
       "    </tr>\n",
       "    <tr>\n",
       "      <th>3</th>\n",
       "      <td>14709966.0</td>\n",
       "      <td>3699.0</td>\n",
       "      <td>Red</td>\n",
       "      <td>Nayo</td>\n",
       "      <td>Red printed kurta with trouser and dupatta&lt;br&gt;...</td>\n",
       "      <td>[NA, Ready to Wear, Hand Wash]</td>\n",
       "    </tr>\n",
       "    <tr>\n",
       "      <th>4</th>\n",
       "      <td>11056154.0</td>\n",
       "      <td>1350.0</td>\n",
       "      <td>Black</td>\n",
       "      <td>AHIKA</td>\n",
       "      <td>Black and green printed straight kurta, has a ...</td>\n",
       "      <td>[Ready to Wear, Machine Wash]</td>\n",
       "    </tr>\n",
       "    <tr>\n",
       "      <th>...</th>\n",
       "      <td>...</td>\n",
       "      <td>...</td>\n",
       "      <td>...</td>\n",
       "      <td>...</td>\n",
       "      <td>...</td>\n",
       "      <td>...</td>\n",
       "    </tr>\n",
       "    <tr>\n",
       "      <th>14298</th>\n",
       "      <td>14927330.0</td>\n",
       "      <td>1499.0</td>\n",
       "      <td>Beige</td>\n",
       "      <td>H&amp;M</td>\n",
       "      <td>&lt;p&gt;Sleeveless, longer-style hoodie in sweatshi...</td>\n",
       "      <td>[NA, Machine Wash]</td>\n",
       "    </tr>\n",
       "    <tr>\n",
       "      <th>14305</th>\n",
       "      <td>7275903.0</td>\n",
       "      <td>1699.0</td>\n",
       "      <td>Black</td>\n",
       "      <td>Belle Fille</td>\n",
       "      <td>Black solid sweatshirt, has a round neck, long...</td>\n",
       "      <td>[NA, Hand Wash]</td>\n",
       "    </tr>\n",
       "    <tr>\n",
       "      <th>14313</th>\n",
       "      <td>16044104.0</td>\n",
       "      <td>1799.0</td>\n",
       "      <td>Black</td>\n",
       "      <td>SASSAFRAS</td>\n",
       "      <td>Black printed sweatshirt has a round neck,  lo...</td>\n",
       "      <td>[NA, Machine Wash]</td>\n",
       "    </tr>\n",
       "    <tr>\n",
       "      <th>14323</th>\n",
       "      <td>16225448.0</td>\n",
       "      <td>2099.0</td>\n",
       "      <td>Olive</td>\n",
       "      <td>The Vanca</td>\n",
       "      <td>Olive green solid sweatshirt has a hooded,  2 ...</td>\n",
       "      <td>[2, Machine Wash]</td>\n",
       "    </tr>\n",
       "    <tr>\n",
       "      <th>14325</th>\n",
       "      <td>15415116.0</td>\n",
       "      <td>2299.0</td>\n",
       "      <td>Blue</td>\n",
       "      <td>Flying Machine</td>\n",
       "      <td>Blue solid front-open sweatshirt has a mock co...</td>\n",
       "      <td>[2, Machine Wash]</td>\n",
       "    </tr>\n",
       "  </tbody>\n",
       "</table>\n",
       "<p>6581 rows × 6 columns</p>\n",
       "</div>"
      ],
      "text/plain": [
       "             p_id   price     colour           brand  \\\n",
       "0      17048614.0  5099.0      Black       Khushal K   \n",
       "1      16524740.0  5899.0     Orange         InWeave   \n",
       "2      16331376.0  4899.0  Navy Blue       Anubhutee   \n",
       "3      14709966.0  3699.0        Red            Nayo   \n",
       "4      11056154.0  1350.0      Black           AHIKA   \n",
       "...           ...     ...        ...             ...   \n",
       "14298  14927330.0  1499.0      Beige             H&M   \n",
       "14305   7275903.0  1699.0      Black     Belle Fille   \n",
       "14313  16044104.0  1799.0      Black       SASSAFRAS   \n",
       "14323  16225448.0  2099.0      Olive       The Vanca   \n",
       "14325  15415116.0  2299.0       Blue  Flying Machine   \n",
       "\n",
       "                                             description  \\\n",
       "0      Black printed Kurta with Palazzos with dupatta...   \n",
       "1      Orange solid Kurta with Palazzos with dupatta<...   \n",
       "2      Navy blue embroidered Kurta with Trousers with...   \n",
       "3      Red printed kurta with trouser and dupatta<br>...   \n",
       "4      Black and green printed straight kurta, has a ...   \n",
       "...                                                  ...   \n",
       "14298  <p>Sleeveless, longer-style hoodie in sweatshi...   \n",
       "14305  Black solid sweatshirt, has a round neck, long...   \n",
       "14313  Black printed sweatshirt has a round neck,  lo...   \n",
       "14323  Olive green solid sweatshirt has a hooded,  2 ...   \n",
       "14325  Blue solid front-open sweatshirt has a mock co...   \n",
       "\n",
       "                            p_attributes  \n",
       "0      [NA, Ready to Wear, Machine Wash]  \n",
       "1         [NA, Ready to Wear, Hand Wash]  \n",
       "2         [NA, Ready to Wear, Hand Wash]  \n",
       "3         [NA, Ready to Wear, Hand Wash]  \n",
       "4          [Ready to Wear, Machine Wash]  \n",
       "...                                  ...  \n",
       "14298                 [NA, Machine Wash]  \n",
       "14305                    [NA, Hand Wash]  \n",
       "14313                 [NA, Machine Wash]  \n",
       "14323                  [2, Machine Wash]  \n",
       "14325                  [2, Machine Wash]  \n",
       "\n",
       "[6581 rows x 6 columns]"
      ]
     },
     "execution_count": 118,
     "metadata": {},
     "output_type": "execute_result"
    },
    {
     "data": {
      "text/plain": [
       "0    Khushal K\n",
       "1      InWeave\n",
       "Name: brand, dtype: object"
      ]
     },
     "execution_count": 118,
     "metadata": {},
     "output_type": "execute_result"
    },
    {
     "data": {
      "text/plain": [
       "0    Khushal K\n",
       "1      InWeave\n",
       "Name: brand, dtype: object"
      ]
     },
     "execution_count": 118,
     "metadata": {},
     "output_type": "execute_result"
    }
   ],
   "source": [
    "df_c\n",
    "df_c[\"brand\"].head(2)\n",
    "df_c[\"brand\"].head(2)"
   ]
  },
  {
   "cell_type": "code",
   "execution_count": 129,
   "id": "e3903fcd",
   "metadata": {},
   "outputs": [
    {
     "data": {
      "text/plain": [
       "['Khushal', 'K']"
      ]
     },
     "execution_count": 129,
     "metadata": {},
     "output_type": "execute_result"
    }
   ],
   "source": [
    "def list_conv(text):\n",
    "    l=[]\n",
    "    for i in text.split():\n",
    "        l.append(i)\n",
    "    return l\n",
    "\n",
    "\n",
    "st(df_c[\"brand\"][0])"
   ]
  },
  {
   "cell_type": "code",
   "execution_count": 201,
   "id": "76d2bc5b",
   "metadata": {},
   "outputs": [],
   "source": [
    "df_c[\"brand\"]=df_c[\"brand\"].apply(list_conv)\n",
    "df_c[\"brand\"]=df_c[\"brand\"].apply(lambda x:[i.replace(\" \",\"\") for i in x])\n"
   ]
  },
  {
   "cell_type": "code",
   "execution_count": 202,
   "id": "a48425d3",
   "metadata": {},
   "outputs": [],
   "source": [
    "df_c[\"colour\"]=df_c[\"colour\"].apply(list_conv)\n",
    "df_c[\"colour\"]=df_c[\"colour\"].apply(lambda x:[i.replace(\" \",\"\") for i in x])\n"
   ]
  },
  {
   "cell_type": "code",
   "execution_count": 203,
   "id": "05d91cb4",
   "metadata": {},
   "outputs": [],
   "source": [
    "df_c[\"p_attributes\"]=df_c[\"p_attributes\"].apply(lambda x:[i.replace(\" \",\"\") for i in x])\n"
   ]
  },
  {
   "cell_type": "code",
   "execution_count": 204,
   "id": "d031ddf6",
   "metadata": {
    "scrolled": true
   },
   "outputs": [],
   "source": [
    "df_c[\"description\"]=df_c[\"description\"].apply(list_conv)\n"
   ]
  },
  {
   "cell_type": "code",
   "execution_count": 213,
   "id": "d41f7440",
   "metadata": {},
   "outputs": [
    {
     "data": {
      "text/html": [
       "<div>\n",
       "<style scoped>\n",
       "    .dataframe tbody tr th:only-of-type {\n",
       "        vertical-align: middle;\n",
       "    }\n",
       "\n",
       "    .dataframe tbody tr th {\n",
       "        vertical-align: top;\n",
       "    }\n",
       "\n",
       "    .dataframe thead th {\n",
       "        text-align: right;\n",
       "    }\n",
       "</style>\n",
       "<table border=\"1\" class=\"dataframe\">\n",
       "  <thead>\n",
       "    <tr style=\"text-align: right;\">\n",
       "      <th></th>\n",
       "      <th>name</th>\n",
       "      <th>colour</th>\n",
       "      <th>brand</th>\n",
       "      <th>description</th>\n",
       "      <th>p_attributes</th>\n",
       "      <th>img</th>\n",
       "      <th>Tag</th>\n",
       "    </tr>\n",
       "  </thead>\n",
       "  <tbody>\n",
       "    <tr>\n",
       "      <th>0</th>\n",
       "      <td>Khushal K Women Black Ethnic Motifs Printed Ku...</td>\n",
       "      <td>[Black]</td>\n",
       "      <td>[Khushal, K]</td>\n",
       "      <td>[Black, printed, Kurta, with, Palazzos, with, ...</td>\n",
       "      <td>[NA, ReadytoWear, MachineWash]</td>\n",
       "      <td>http://assets.myntassets.com/assets/images/170...</td>\n",
       "      <td>black khushal k black print kurta with palazzo...</td>\n",
       "    </tr>\n",
       "    <tr>\n",
       "      <th>1</th>\n",
       "      <td>InWeave Women Orange Solid Kurta with Palazzos...</td>\n",
       "      <td>[Orange]</td>\n",
       "      <td>[InWeave]</td>\n",
       "      <td>[Orange, solid, Kurta, with, Palazzos, with, d...</td>\n",
       "      <td>[NA, ReadytoWear, HandWash]</td>\n",
       "      <td>http://assets.myntassets.com/assets/images/165...</td>\n",
       "      <td>orang inweav orang solid kurta with palazzo wi...</td>\n",
       "    </tr>\n",
       "    <tr>\n",
       "      <th>2</th>\n",
       "      <td>Anubhutee Women Navy Blue Ethnic Motifs Embroi...</td>\n",
       "      <td>[Navy, Blue]</td>\n",
       "      <td>[Anubhutee]</td>\n",
       "      <td>[Navy, blue, embroidered, Kurta, with, Trouser...</td>\n",
       "      <td>[NA, ReadytoWear, HandWash]</td>\n",
       "      <td>http://assets.myntassets.com/assets/images/163...</td>\n",
       "      <td>navi blue anubhute navi blue embroid kurta wit...</td>\n",
       "    </tr>\n",
       "    <tr>\n",
       "      <th>3</th>\n",
       "      <td>Nayo Women Red Floral Printed Kurta With Trous...</td>\n",
       "      <td>[Red]</td>\n",
       "      <td>[Nayo]</td>\n",
       "      <td>[Red, printed, kurta, with, trouser, and, dupa...</td>\n",
       "      <td>[NA, ReadytoWear, HandWash]</td>\n",
       "      <td>http://assets.myntassets.com/assets/images/147...</td>\n",
       "      <td>red nayo red print kurta with trouser and dupa...</td>\n",
       "    </tr>\n",
       "    <tr>\n",
       "      <th>4</th>\n",
       "      <td>AHIKA Women Black &amp; Green Printed Straight Kurta</td>\n",
       "      <td>[Black]</td>\n",
       "      <td>[AHIKA]</td>\n",
       "      <td>[Black, and, green, printed, straight, kurta,,...</td>\n",
       "      <td>[ReadytoWear, MachineWash]</td>\n",
       "      <td>http://assets.myntassets.com/assets/images/110...</td>\n",
       "      <td>black ahika black and green print straight kur...</td>\n",
       "    </tr>\n",
       "    <tr>\n",
       "      <th>...</th>\n",
       "      <td>...</td>\n",
       "      <td>...</td>\n",
       "      <td>...</td>\n",
       "      <td>...</td>\n",
       "      <td>...</td>\n",
       "      <td>...</td>\n",
       "      <td>...</td>\n",
       "    </tr>\n",
       "    <tr>\n",
       "      <th>14298</th>\n",
       "      <td>H&amp;M Women Beige Solid Sleeveless Hoodie</td>\n",
       "      <td>[Beige]</td>\n",
       "      <td>[H&amp;M]</td>\n",
       "      <td>[&lt;p&gt;Sleeveless,, longer-style, hoodie, in, swe...</td>\n",
       "      <td>[NA, MachineWash]</td>\n",
       "      <td>http://assets.myntassets.com/assets/images/149...</td>\n",
       "      <td>beig h&amp;m &lt;p&gt;sleeveless, longer-styl hoodi in s...</td>\n",
       "    </tr>\n",
       "    <tr>\n",
       "      <th>14305</th>\n",
       "      <td>Belle Fille Women Black Solid Sweatshirt</td>\n",
       "      <td>[Black]</td>\n",
       "      <td>[Belle, Fille]</td>\n",
       "      <td>[Black, solid, sweatshirt,, has, a, round, nec...</td>\n",
       "      <td>[NA, HandWash]</td>\n",
       "      <td>http://assets.myntassets.com/assets/images/727...</td>\n",
       "      <td>black bell fill black solid sweatshirt, ha a r...</td>\n",
       "    </tr>\n",
       "    <tr>\n",
       "      <th>14313</th>\n",
       "      <td>SASSAFRAS Women Black Printed Sweatshirt</td>\n",
       "      <td>[Black]</td>\n",
       "      <td>[SASSAFRAS]</td>\n",
       "      <td>[Black, printed, sweatshirt, has, a, round, ne...</td>\n",
       "      <td>[NA, MachineWash]</td>\n",
       "      <td>http://assets.myntassets.com/assets/images/160...</td>\n",
       "      <td>black sassafra black print sweatshirt ha a rou...</td>\n",
       "    </tr>\n",
       "    <tr>\n",
       "      <th>14323</th>\n",
       "      <td>The Vanca Women Olive Green Hooded Sweatshirt</td>\n",
       "      <td>[Olive]</td>\n",
       "      <td>[The, Vanca]</td>\n",
       "      <td>[Olive, green, solid, sweatshirt, has, a, hood...</td>\n",
       "      <td>[2, MachineWash]</td>\n",
       "      <td>http://assets.myntassets.com/assets/images/162...</td>\n",
       "      <td>oliv the vanca oliv green solid sweatshirt ha ...</td>\n",
       "    </tr>\n",
       "    <tr>\n",
       "      <th>14325</th>\n",
       "      <td>Flying Machine Women Blue Solid Mock-Collar Fr...</td>\n",
       "      <td>[Blue]</td>\n",
       "      <td>[Flying, Machine]</td>\n",
       "      <td>[Blue, solid, front-open, sweatshirt, has, a, ...</td>\n",
       "      <td>[2, MachineWash]</td>\n",
       "      <td>http://assets.myntassets.com/assets/images/154...</td>\n",
       "      <td>blue fli machin blue solid front-open sweatshi...</td>\n",
       "    </tr>\n",
       "  </tbody>\n",
       "</table>\n",
       "<p>6581 rows × 7 columns</p>\n",
       "</div>"
      ],
      "text/plain": [
       "                                                    name        colour  \\\n",
       "0      Khushal K Women Black Ethnic Motifs Printed Ku...       [Black]   \n",
       "1      InWeave Women Orange Solid Kurta with Palazzos...      [Orange]   \n",
       "2      Anubhutee Women Navy Blue Ethnic Motifs Embroi...  [Navy, Blue]   \n",
       "3      Nayo Women Red Floral Printed Kurta With Trous...         [Red]   \n",
       "4       AHIKA Women Black & Green Printed Straight Kurta       [Black]   \n",
       "...                                                  ...           ...   \n",
       "14298            H&M Women Beige Solid Sleeveless Hoodie       [Beige]   \n",
       "14305           Belle Fille Women Black Solid Sweatshirt       [Black]   \n",
       "14313           SASSAFRAS Women Black Printed Sweatshirt       [Black]   \n",
       "14323      The Vanca Women Olive Green Hooded Sweatshirt       [Olive]   \n",
       "14325  Flying Machine Women Blue Solid Mock-Collar Fr...        [Blue]   \n",
       "\n",
       "                   brand                                        description  \\\n",
       "0           [Khushal, K]  [Black, printed, Kurta, with, Palazzos, with, ...   \n",
       "1              [InWeave]  [Orange, solid, Kurta, with, Palazzos, with, d...   \n",
       "2            [Anubhutee]  [Navy, blue, embroidered, Kurta, with, Trouser...   \n",
       "3                 [Nayo]  [Red, printed, kurta, with, trouser, and, dupa...   \n",
       "4                [AHIKA]  [Black, and, green, printed, straight, kurta,,...   \n",
       "...                  ...                                                ...   \n",
       "14298              [H&M]  [<p>Sleeveless,, longer-style, hoodie, in, swe...   \n",
       "14305     [Belle, Fille]  [Black, solid, sweatshirt,, has, a, round, nec...   \n",
       "14313        [SASSAFRAS]  [Black, printed, sweatshirt, has, a, round, ne...   \n",
       "14323       [The, Vanca]  [Olive, green, solid, sweatshirt, has, a, hood...   \n",
       "14325  [Flying, Machine]  [Blue, solid, front-open, sweatshirt, has, a, ...   \n",
       "\n",
       "                         p_attributes  \\\n",
       "0      [NA, ReadytoWear, MachineWash]   \n",
       "1         [NA, ReadytoWear, HandWash]   \n",
       "2         [NA, ReadytoWear, HandWash]   \n",
       "3         [NA, ReadytoWear, HandWash]   \n",
       "4          [ReadytoWear, MachineWash]   \n",
       "...                               ...   \n",
       "14298               [NA, MachineWash]   \n",
       "14305                  [NA, HandWash]   \n",
       "14313               [NA, MachineWash]   \n",
       "14323                [2, MachineWash]   \n",
       "14325                [2, MachineWash]   \n",
       "\n",
       "                                                     img  \\\n",
       "0      http://assets.myntassets.com/assets/images/170...   \n",
       "1      http://assets.myntassets.com/assets/images/165...   \n",
       "2      http://assets.myntassets.com/assets/images/163...   \n",
       "3      http://assets.myntassets.com/assets/images/147...   \n",
       "4      http://assets.myntassets.com/assets/images/110...   \n",
       "...                                                  ...   \n",
       "14298  http://assets.myntassets.com/assets/images/149...   \n",
       "14305  http://assets.myntassets.com/assets/images/727...   \n",
       "14313  http://assets.myntassets.com/assets/images/160...   \n",
       "14323  http://assets.myntassets.com/assets/images/162...   \n",
       "14325  http://assets.myntassets.com/assets/images/154...   \n",
       "\n",
       "                                                     Tag  \n",
       "0      black khushal k black print kurta with palazzo...  \n",
       "1      orang inweav orang solid kurta with palazzo wi...  \n",
       "2      navi blue anubhute navi blue embroid kurta wit...  \n",
       "3      red nayo red print kurta with trouser and dupa...  \n",
       "4      black ahika black and green print straight kur...  \n",
       "...                                                  ...  \n",
       "14298  beig h&m <p>sleeveless, longer-styl hoodi in s...  \n",
       "14305  black bell fill black solid sweatshirt, ha a r...  \n",
       "14313  black sassafra black print sweatshirt ha a rou...  \n",
       "14323  oliv the vanca oliv green solid sweatshirt ha ...  \n",
       "14325  blue fli machin blue solid front-open sweatshi...  \n",
       "\n",
       "[6581 rows x 7 columns]"
      ]
     },
     "execution_count": 213,
     "metadata": {},
     "output_type": "execute_result"
    }
   ],
   "source": [
    "df_c"
   ]
  },
  {
   "cell_type": "code",
   "execution_count": 206,
   "id": "05374a84",
   "metadata": {},
   "outputs": [],
   "source": [
    "df_c[\"Tag\"]=df_c[\"colour\"]+df_c[\"brand\"]+df_c[\"description\"]+df_c[\"p_attributes\"]"
   ]
  },
  {
   "cell_type": "code",
   "execution_count": 208,
   "id": "64764415",
   "metadata": {},
   "outputs": [],
   "source": [
    "import nltk\n",
    "from nltk.stem.porter import PorterStemmer\n",
    "\n",
    "ps=PorterStemmer()"
   ]
  },
  {
   "cell_type": "code",
   "execution_count": 209,
   "id": "bf973bec",
   "metadata": {},
   "outputs": [],
   "source": [
    "def st(text):\n",
    "    l=[]\n",
    "    for i in text.split():\n",
    "        l.append(ps.stem(i))\n",
    "    return \" \".join(l)"
   ]
  },
  {
   "cell_type": "code",
   "execution_count": 210,
   "id": "5d3dc82c",
   "metadata": {},
   "outputs": [],
   "source": [
    "df_c[\"Tag\"]=df_c[\"Tag\"].apply(lambda x: \" \".join(x))"
   ]
  },
  {
   "cell_type": "code",
   "execution_count": 211,
   "id": "6a63a897",
   "metadata": {},
   "outputs": [],
   "source": [
    "df_c[\"Tag\"]=df_c[\"Tag\"].apply(st)"
   ]
  },
  {
   "cell_type": "code",
   "execution_count": 212,
   "id": "7f7421a0",
   "metadata": {
    "collapsed": true
   },
   "outputs": [
    {
     "data": {
      "text/html": [
       "<div>\n",
       "<style scoped>\n",
       "    .dataframe tbody tr th:only-of-type {\n",
       "        vertical-align: middle;\n",
       "    }\n",
       "\n",
       "    .dataframe tbody tr th {\n",
       "        vertical-align: top;\n",
       "    }\n",
       "\n",
       "    .dataframe thead th {\n",
       "        text-align: right;\n",
       "    }\n",
       "</style>\n",
       "<table border=\"1\" class=\"dataframe\">\n",
       "  <thead>\n",
       "    <tr style=\"text-align: right;\">\n",
       "      <th></th>\n",
       "      <th>name</th>\n",
       "      <th>colour</th>\n",
       "      <th>brand</th>\n",
       "      <th>description</th>\n",
       "      <th>p_attributes</th>\n",
       "      <th>img</th>\n",
       "      <th>Tag</th>\n",
       "    </tr>\n",
       "  </thead>\n",
       "  <tbody>\n",
       "    <tr>\n",
       "      <th>0</th>\n",
       "      <td>Khushal K Women Black Ethnic Motifs Printed Ku...</td>\n",
       "      <td>[Black]</td>\n",
       "      <td>[Khushal, K]</td>\n",
       "      <td>[Black, printed, Kurta, with, Palazzos, with, ...</td>\n",
       "      <td>[NA, ReadytoWear, MachineWash]</td>\n",
       "      <td>http://assets.myntassets.com/assets/images/170...</td>\n",
       "      <td>black khushal k black print kurta with palazzo...</td>\n",
       "    </tr>\n",
       "    <tr>\n",
       "      <th>1</th>\n",
       "      <td>InWeave Women Orange Solid Kurta with Palazzos...</td>\n",
       "      <td>[Orange]</td>\n",
       "      <td>[InWeave]</td>\n",
       "      <td>[Orange, solid, Kurta, with, Palazzos, with, d...</td>\n",
       "      <td>[NA, ReadytoWear, HandWash]</td>\n",
       "      <td>http://assets.myntassets.com/assets/images/165...</td>\n",
       "      <td>orang inweav orang solid kurta with palazzo wi...</td>\n",
       "    </tr>\n",
       "    <tr>\n",
       "      <th>2</th>\n",
       "      <td>Anubhutee Women Navy Blue Ethnic Motifs Embroi...</td>\n",
       "      <td>[Navy, Blue]</td>\n",
       "      <td>[Anubhutee]</td>\n",
       "      <td>[Navy, blue, embroidered, Kurta, with, Trouser...</td>\n",
       "      <td>[NA, ReadytoWear, HandWash]</td>\n",
       "      <td>http://assets.myntassets.com/assets/images/163...</td>\n",
       "      <td>navi blue anubhute navi blue embroid kurta wit...</td>\n",
       "    </tr>\n",
       "    <tr>\n",
       "      <th>3</th>\n",
       "      <td>Nayo Women Red Floral Printed Kurta With Trous...</td>\n",
       "      <td>[Red]</td>\n",
       "      <td>[Nayo]</td>\n",
       "      <td>[Red, printed, kurta, with, trouser, and, dupa...</td>\n",
       "      <td>[NA, ReadytoWear, HandWash]</td>\n",
       "      <td>http://assets.myntassets.com/assets/images/147...</td>\n",
       "      <td>red nayo red print kurta with trouser and dupa...</td>\n",
       "    </tr>\n",
       "    <tr>\n",
       "      <th>4</th>\n",
       "      <td>AHIKA Women Black &amp; Green Printed Straight Kurta</td>\n",
       "      <td>[Black]</td>\n",
       "      <td>[AHIKA]</td>\n",
       "      <td>[Black, and, green, printed, straight, kurta,,...</td>\n",
       "      <td>[ReadytoWear, MachineWash]</td>\n",
       "      <td>http://assets.myntassets.com/assets/images/110...</td>\n",
       "      <td>black ahika black and green print straight kur...</td>\n",
       "    </tr>\n",
       "  </tbody>\n",
       "</table>\n",
       "</div>"
      ],
      "text/plain": [
       "                                                name        colour  \\\n",
       "0  Khushal K Women Black Ethnic Motifs Printed Ku...       [Black]   \n",
       "1  InWeave Women Orange Solid Kurta with Palazzos...      [Orange]   \n",
       "2  Anubhutee Women Navy Blue Ethnic Motifs Embroi...  [Navy, Blue]   \n",
       "3  Nayo Women Red Floral Printed Kurta With Trous...         [Red]   \n",
       "4   AHIKA Women Black & Green Printed Straight Kurta       [Black]   \n",
       "\n",
       "          brand                                        description  \\\n",
       "0  [Khushal, K]  [Black, printed, Kurta, with, Palazzos, with, ...   \n",
       "1     [InWeave]  [Orange, solid, Kurta, with, Palazzos, with, d...   \n",
       "2   [Anubhutee]  [Navy, blue, embroidered, Kurta, with, Trouser...   \n",
       "3        [Nayo]  [Red, printed, kurta, with, trouser, and, dupa...   \n",
       "4       [AHIKA]  [Black, and, green, printed, straight, kurta,,...   \n",
       "\n",
       "                     p_attributes  \\\n",
       "0  [NA, ReadytoWear, MachineWash]   \n",
       "1     [NA, ReadytoWear, HandWash]   \n",
       "2     [NA, ReadytoWear, HandWash]   \n",
       "3     [NA, ReadytoWear, HandWash]   \n",
       "4      [ReadytoWear, MachineWash]   \n",
       "\n",
       "                                                 img  \\\n",
       "0  http://assets.myntassets.com/assets/images/170...   \n",
       "1  http://assets.myntassets.com/assets/images/165...   \n",
       "2  http://assets.myntassets.com/assets/images/163...   \n",
       "3  http://assets.myntassets.com/assets/images/147...   \n",
       "4  http://assets.myntassets.com/assets/images/110...   \n",
       "\n",
       "                                                 Tag  \n",
       "0  black khushal k black print kurta with palazzo...  \n",
       "1  orang inweav orang solid kurta with palazzo wi...  \n",
       "2  navi blue anubhute navi blue embroid kurta wit...  \n",
       "3  red nayo red print kurta with trouser and dupa...  \n",
       "4  black ahika black and green print straight kur...  "
      ]
     },
     "execution_count": 212,
     "metadata": {},
     "output_type": "execute_result"
    }
   ],
   "source": [
    "df_c.head()"
   ]
  },
  {
   "cell_type": "code",
   "execution_count": 214,
   "id": "8e2b63c0",
   "metadata": {},
   "outputs": [],
   "source": [
    "df_c=df_c[[\"name\",\"Tag\",\"img\"]]"
   ]
  },
  {
   "cell_type": "markdown",
   "id": "0a4fe134",
   "metadata": {},
   "source": [
    "# Final df"
   ]
  },
  {
   "cell_type": "code",
   "execution_count": 216,
   "id": "5a0fed0a",
   "metadata": {},
   "outputs": [
    {
     "data": {
      "text/html": [
       "<div>\n",
       "<style scoped>\n",
       "    .dataframe tbody tr th:only-of-type {\n",
       "        vertical-align: middle;\n",
       "    }\n",
       "\n",
       "    .dataframe tbody tr th {\n",
       "        vertical-align: top;\n",
       "    }\n",
       "\n",
       "    .dataframe thead th {\n",
       "        text-align: right;\n",
       "    }\n",
       "</style>\n",
       "<table border=\"1\" class=\"dataframe\">\n",
       "  <thead>\n",
       "    <tr style=\"text-align: right;\">\n",
       "      <th></th>\n",
       "      <th>name</th>\n",
       "      <th>Tag</th>\n",
       "      <th>img</th>\n",
       "    </tr>\n",
       "  </thead>\n",
       "  <tbody>\n",
       "    <tr>\n",
       "      <th>0</th>\n",
       "      <td>Khushal K Women Black Ethnic Motifs Printed Ku...</td>\n",
       "      <td>black khushal k black print kurta with palazzo...</td>\n",
       "      <td>http://assets.myntassets.com/assets/images/170...</td>\n",
       "    </tr>\n",
       "    <tr>\n",
       "      <th>1</th>\n",
       "      <td>InWeave Women Orange Solid Kurta with Palazzos...</td>\n",
       "      <td>orang inweav orang solid kurta with palazzo wi...</td>\n",
       "      <td>http://assets.myntassets.com/assets/images/165...</td>\n",
       "    </tr>\n",
       "    <tr>\n",
       "      <th>2</th>\n",
       "      <td>Anubhutee Women Navy Blue Ethnic Motifs Embroi...</td>\n",
       "      <td>navi blue anubhute navi blue embroid kurta wit...</td>\n",
       "      <td>http://assets.myntassets.com/assets/images/163...</td>\n",
       "    </tr>\n",
       "    <tr>\n",
       "      <th>3</th>\n",
       "      <td>Nayo Women Red Floral Printed Kurta With Trous...</td>\n",
       "      <td>red nayo red print kurta with trouser and dupa...</td>\n",
       "      <td>http://assets.myntassets.com/assets/images/147...</td>\n",
       "    </tr>\n",
       "  </tbody>\n",
       "</table>\n",
       "</div>"
      ],
      "text/plain": [
       "                                                name  \\\n",
       "0  Khushal K Women Black Ethnic Motifs Printed Ku...   \n",
       "1  InWeave Women Orange Solid Kurta with Palazzos...   \n",
       "2  Anubhutee Women Navy Blue Ethnic Motifs Embroi...   \n",
       "3  Nayo Women Red Floral Printed Kurta With Trous...   \n",
       "\n",
       "                                                 Tag  \\\n",
       "0  black khushal k black print kurta with palazzo...   \n",
       "1  orang inweav orang solid kurta with palazzo wi...   \n",
       "2  navi blue anubhute navi blue embroid kurta wit...   \n",
       "3  red nayo red print kurta with trouser and dupa...   \n",
       "\n",
       "                                                 img  \n",
       "0  http://assets.myntassets.com/assets/images/170...  \n",
       "1  http://assets.myntassets.com/assets/images/165...  \n",
       "2  http://assets.myntassets.com/assets/images/163...  \n",
       "3  http://assets.myntassets.com/assets/images/147...  "
      ]
     },
     "execution_count": 216,
     "metadata": {},
     "output_type": "execute_result"
    }
   ],
   "source": [
    "df_c.head(4)\n",
    "df_c.to_csv(\"Muntra_final.csv\")"
   ]
  },
  {
   "cell_type": "code",
   "execution_count": 170,
   "id": "aa3fb29f",
   "metadata": {},
   "outputs": [],
   "source": [
    "from sklearn.feature_extraction.text import CountVectorizer\n",
    "cv=CountVectorizer(max_features=6000,stop_words=\"english\")"
   ]
  },
  {
   "cell_type": "code",
   "execution_count": 172,
   "id": "fbfdf3aa",
   "metadata": {},
   "outputs": [],
   "source": [
    "vectors=cv.fit_transform(df_c[\"Tag\"]).toarray()"
   ]
  },
  {
   "cell_type": "code",
   "execution_count": 173,
   "id": "7cf416fc",
   "metadata": {},
   "outputs": [],
   "source": [
    "from sklearn.metrics.pairwise import cosine_similarity\n",
    "simulary=cosine_similarity(vectors)"
   ]
  },
  {
   "cell_type": "code",
   "execution_count": 219,
   "id": "599cdf2a",
   "metadata": {},
   "outputs": [],
   "source": [
    "import pickle\n",
    "pickle.dump(simulary,open(\"simulary_myntra.pkl\",\"wb\"))"
   ]
  },
  {
   "cell_type": "code",
   "execution_count": 178,
   "id": "a3810539",
   "metadata": {},
   "outputs": [],
   "source": [
    "def simul(movie):\n",
    "    index=df_c[df_c[\"name\"]==movie].index[0]\n",
    "    distance=simulary[index]\n",
    "    #for 1st movie 2 movies simularities and 1st movie 3 movie simularities , 1 move 4th....\n",
    "    list_v=sorted(list(enumerate(distance)),reverse=True,key=lambda x: x[1])[1:6]\n",
    "    \n",
    "    for i in list_v:\n",
    "        c=i[0]\n",
    "        print(c,df_c.iloc[c][\"name\"])"
   ]
  },
  {
   "cell_type": "code",
   "execution_count": 245,
   "id": "1159db49",
   "metadata": {},
   "outputs": [
    {
     "name": "stdout",
     "output_type": "stream",
     "text": [
      "480 Anouk Women White & Blue Floral Printed Kurta\n",
      "516 HERE&NOW Women Blue & White Striped Embroidered Mirror Work A-Line Kurta\n",
      "288 Anouk Women Black & White Bandhani Printed Halter Neck Kurta\n",
      "648 Anouk Women Pink Pure Cotton Solid Kurta\n",
      "210 Anouk Women Red & White Bandhani Printed Angrakha Gotta Patti A-Line Kurta\n"
     ]
    }
   ],
   "source": [
    "simul(\"Khushal K Women White Ethnic Motifs Printed Gotta Patti Kurta with Palazzos & With Dupatta\")"
   ]
  },
  {
   "cell_type": "code",
   "execution_count": 242,
   "id": "393dd745",
   "metadata": {},
   "outputs": [],
   "source": [
    "model=pickle.load(open(\"simulary_myntra.pkl\",\"rb\"))"
   ]
  },
  {
   "cell_type": "code",
   "execution_count": 226,
   "id": "95e14f49",
   "metadata": {},
   "outputs": [
    {
     "data": {
      "text/plain": [
       "0"
      ]
     },
     "execution_count": 226,
     "metadata": {},
     "output_type": "execute_result"
    }
   ],
   "source": [
    "df_c[df_c[\"name\"]==df_c[\"name\"][0]].index[0]"
   ]
  },
  {
   "cell_type": "code",
   "execution_count": null,
   "id": "47b64977",
   "metadata": {},
   "outputs": [],
   "source": []
  },
  {
   "cell_type": "code",
   "execution_count": 230,
   "id": "cfc6e225",
   "metadata": {},
   "outputs": [],
   "source": [
    "def recom(name):\n",
    "    index = df_c[df_c[\"name\"] == name].index[0]\n",
    "    distance = model[index]\n",
    "    # for 1st movie 2 movies simularities and 1st movie 3 movie simularities , 1 move 4th....\n",
    "    list_v = sorted(list(enumerate(distance)), reverse=True, key=lambda x: x[1])[1:6]\n",
    "    d=[]\n",
    "    for i in list_v:\n",
    "        c = i[0]\n",
    "        d.append(df_c.index[c])\n",
    "    return d\n"
   ]
  },
  {
   "cell_type": "code",
   "execution_count": 231,
   "id": "2ec4f938",
   "metadata": {},
   "outputs": [
    {
     "data": {
      "text/plain": [
       "[618, 665, 360, 863, 258]"
      ]
     },
     "execution_count": 231,
     "metadata": {},
     "output_type": "execute_result"
    }
   ],
   "source": [
    "recom(\"Khushal K Women White Ethnic Motifs Printed Gotta Patti Kurta with Palazzos & With Dupatta\")"
   ]
  },
  {
   "cell_type": "code",
   "execution_count": 233,
   "id": "ac43288d",
   "metadata": {},
   "outputs": [],
   "source": [
    "v=recom(\"Khushal K Women White Ethnic Motifs Printed Gotta Patti Kurta with Palazzos & With Dupatta\")"
   ]
  },
  {
   "cell_type": "code",
   "execution_count": 235,
   "id": "3414a04d",
   "metadata": {},
   "outputs": [],
   "source": [
    "lis=[]\n",
    "for i in v:\n",
    "    lis.append(i)"
   ]
  },
  {
   "cell_type": "code",
   "execution_count": 236,
   "id": "65510d2a",
   "metadata": {},
   "outputs": [
    {
     "data": {
      "text/plain": [
       "[618, 665, 360, 863, 258]"
      ]
     },
     "execution_count": 236,
     "metadata": {},
     "output_type": "execute_result"
    }
   ],
   "source": [
    "lis"
   ]
  },
  {
   "cell_type": "code",
   "execution_count": null,
   "id": "d0dc1ae2",
   "metadata": {},
   "outputs": [],
   "source": []
  },
  {
   "cell_type": "code",
   "execution_count": 237,
   "id": "ce3b1c10",
   "metadata": {},
   "outputs": [
    {
     "data": {
      "text/plain": [
       "821"
      ]
     },
     "execution_count": 237,
     "metadata": {},
     "output_type": "execute_result"
    }
   ],
   "source": [
    "df_c.index[618]"
   ]
  },
  {
   "cell_type": "code",
   "execution_count": 246,
   "id": "2ff8248d",
   "metadata": {},
   "outputs": [
    {
     "data": {
      "text/plain": [
       "'Anouk Women White & Blue Floral Printed Kurta'"
      ]
     },
     "execution_count": 246,
     "metadata": {},
     "output_type": "execute_result"
    }
   ],
   "source": [
    "df_c[\"name\"][618]"
   ]
  },
  {
   "cell_type": "code",
   "execution_count": 248,
   "id": "138613c3",
   "metadata": {},
   "outputs": [],
   "source": [
    "for i in (df_c[df_c[\"name\"] == lis[0]][\"img\"]):\n",
    "    print(\"f\")\n",
    "    break"
   ]
  },
  {
   "cell_type": "code",
   "execution_count": 270,
   "id": "73e54a0b",
   "metadata": {},
   "outputs": [
    {
     "name": "stdout",
     "output_type": "stream",
     "text": [
      "618    http://assets.myntassets.com/assets/images/161...\n",
      "Name: img, dtype: object\n"
     ]
    }
   ],
   "source": [
    "print(df_c[df_c[\"name\"]==df_c[\"name\"][lis[0]]][\"img\"])"
   ]
  },
  {
   "cell_type": "code",
   "execution_count": 253,
   "id": "04f20d48",
   "metadata": {},
   "outputs": [
    {
     "ename": "TypeError",
     "evalue": "string indices must be integers",
     "output_type": "error",
     "traceback": [
      "\u001b[0;31m---------------------------------------------------------------------------\u001b[0m",
      "\u001b[0;31mTypeError\u001b[0m                                 Traceback (most recent call last)",
      "\u001b[0;32m/var/folders/zp/yykz6vt92kgckn24pqx3zc7w0000gn/T/ipykernel_73426/2253024447.py\u001b[0m in \u001b[0;36m<module>\u001b[0;34m\u001b[0m\n\u001b[0;32m----> 1\u001b[0;31m \u001b[0mdf_c\u001b[0m\u001b[0;34m[\u001b[0m\u001b[0;34m\"name\"\u001b[0m\u001b[0;34m]\u001b[0m\u001b[0;34m[\u001b[0m\u001b[0;36m618\u001b[0m\u001b[0;34m]\u001b[0m\u001b[0;34m[\u001b[0m\u001b[0;34m\"img\"\u001b[0m\u001b[0;34m]\u001b[0m\u001b[0;34m\u001b[0m\u001b[0;34m\u001b[0m\u001b[0m\n\u001b[0m",
      "\u001b[0;31mTypeError\u001b[0m: string indices must be integers"
     ]
    }
   ],
   "source": []
  },
  {
   "cell_type": "code",
   "execution_count": null,
   "id": "d78e09ab",
   "metadata": {},
   "outputs": [],
   "source": []
  }
 ],
 "metadata": {
  "kernelspec": {
   "display_name": "Python 3 (ipykernel)",
   "language": "python",
   "name": "python3"
  },
  "language_info": {
   "codemirror_mode": {
    "name": "ipython",
    "version": 3
   },
   "file_extension": ".py",
   "mimetype": "text/x-python",
   "name": "python",
   "nbconvert_exporter": "python",
   "pygments_lexer": "ipython3",
   "version": "3.9.7"
  }
 },
 "nbformat": 4,
 "nbformat_minor": 5
}
